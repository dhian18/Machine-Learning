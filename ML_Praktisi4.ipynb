{
  "nbformat": 4,
  "nbformat_minor": 0,
  "metadata": {
    "colab": {
      "provenance": []
    },
    "kernelspec": {
      "name": "python3",
      "display_name": "Python 3"
    },
    "language_info": {
      "name": "python"
    }
  },
  "cells": [
    {
      "cell_type": "markdown",
      "source": [
        "\n",
        "> **Pertemuan ke-4 ScikitLearn (PCA, LDA dan SVD)**\n",
        "\n",
        "\n",
        "\n",
        "\n",
        "\n",
        "Nama : Dhian\n",
        "\n",
        "Nim : H071201073"
      ],
      "metadata": {
        "id": "Ust3VCZoJCSN"
      }
    },
    {
      "cell_type": "markdown",
      "source": [
        "**PCA dengan Iris Dataset**"
      ],
      "metadata": {
        "id": "Msl9J2XiJyyB"
      }
    },
    {
      "cell_type": "code",
      "execution_count": 1,
      "metadata": {
        "id": "aWREX2uAIZ9c"
      },
      "outputs": [],
      "source": [
        "#Input Library yang digunakan\n",
        "import numpy as np\n",
        "import matplotlib.pyplot as plt\n",
        "\n",
        "from sklearn import decomposition\n",
        "from sklearn import datasets"
      ]
    },
    {
      "cell_type": "code",
      "source": [
        "np.random.seed(5)"
      ],
      "metadata": {
        "id": "KdRi0TydJffL"
      },
      "execution_count": 2,
      "outputs": []
    },
    {
      "cell_type": "code",
      "source": [
        "iris = datasets.load_iris()\n",
        "X = iris.data\n",
        "y = iris.target"
      ],
      "metadata": {
        "id": "Z-9BN11EJhfj"
      },
      "execution_count": 46,
      "outputs": []
    },
    {
      "cell_type": "code",
      "source": [
        "fig = plt.figure(1, figsize=(4, 3))\n",
        "plt.clf()"
      ],
      "metadata": {
        "colab": {
          "base_uri": "https://localhost:8080/",
          "height": 35
        },
        "id": "Z7q4E09VJ_lh",
        "outputId": "b43cbd07-390b-490a-afb9-15b69af4229d"
      },
      "execution_count": 4,
      "outputs": [
        {
          "output_type": "display_data",
          "data": {
            "text/plain": [
              "<Figure size 288x216 with 0 Axes>"
            ]
          },
          "metadata": {}
        }
      ]
    },
    {
      "cell_type": "code",
      "source": [
        "ax = fig.add_subplot(111, projection=\"3d\", elev=48, azim=134)\n",
        "ax.set_position([0, 0, 0.95, 1])"
      ],
      "metadata": {
        "id": "asqRx-c5KCc1"
      },
      "execution_count": 5,
      "outputs": []
    },
    {
      "cell_type": "code",
      "source": [
        "for name, label in [(\"Setosa\", 0), (\"Versicolour\", 1), (\"Virginica\", 2)]:\n",
        "    ax.text3D(\n",
        "        X[y == label, 0].mean(),\n",
        "        X[y == label, 1].mean() + 1.5,\n",
        "        X[y == label, 2].mean(),\n",
        "        name,\n",
        "        horizontalalignment=\"center\",\n",
        "        bbox=dict(alpha=0.5, edgecolor=\"w\", facecolor=\"w\"),\n",
        "    )"
      ],
      "metadata": {
        "id": "CM4aK-ZiKRol"
      },
      "execution_count": 6,
      "outputs": []
    },
    {
      "cell_type": "code",
      "source": [
        "#Susun ulang label agar memiliki warna yang cocok dengan hasil cluster\n",
        "y = np.choose(y, [1, 2, 0]).astype(float)\n",
        "ax.scatter(X[:, 0], X[:, 1], X[:, 2], c=y, cmap=plt.cm.nipy_spectral, edgecolor=\"k\")\n",
        "\n",
        "ax.w_xaxis.set_ticklabels([])\n",
        "ax.w_yaxis.set_ticklabels([])\n",
        "ax.w_zaxis.set_ticklabels([])\n",
        "plt.show()"
      ],
      "metadata": {
        "id": "fg69HeIHKV6d"
      },
      "execution_count": 7,
      "outputs": []
    },
    {
      "cell_type": "markdown",
      "source": [
        "**LDA**\n",
        "\n",
        "Perbandingan proyeksi 2D LDA dan PCA dari dataset Iris"
      ],
      "metadata": {
        "id": "WpppB-CmKcY5"
      }
    },
    {
      "cell_type": "code",
      "source": [
        "!pip install LDA\n",
        "#Untuk pemodelan topik\n",
        "!pip3 install gensim\n",
        "#Untuk memvisualisasikan model topik\n",
        "!pip3 install pyLDAvis"
      ],
      "metadata": {
        "colab": {
          "base_uri": "https://localhost:8080/"
        },
        "id": "kUCGR0NIKnEp",
        "outputId": "ae415073-1a8f-45e5-fcca-cfc5df19293d"
      },
      "execution_count": 8,
      "outputs": [
        {
          "output_type": "stream",
          "name": "stdout",
          "text": [
            "Looking in indexes: https://pypi.org/simple, https://us-python.pkg.dev/colab-wheels/public/simple/\n",
            "Collecting LDA\n",
            "  Downloading lda-2.0.0-cp37-cp37m-manylinux1_x86_64.whl (351 kB)\n",
            "\u001b[K     |████████████████████████████████| 351 kB 7.4 MB/s \n",
            "\u001b[?25hRequirement already satisfied: numpy<2.0,>=1.13.0 in /usr/local/lib/python3.7/dist-packages (from LDA) (1.21.6)\n",
            "Collecting pbr<4,>=0.6\n",
            "  Downloading pbr-3.1.1-py2.py3-none-any.whl (99 kB)\n",
            "\u001b[K     |████████████████████████████████| 99 kB 10.6 MB/s \n",
            "\u001b[?25hInstalling collected packages: pbr, LDA\n",
            "Successfully installed LDA-2.0.0 pbr-3.1.1\n",
            "Looking in indexes: https://pypi.org/simple, https://us-python.pkg.dev/colab-wheels/public/simple/\n",
            "Requirement already satisfied: gensim in /usr/local/lib/python3.7/dist-packages (3.6.0)\n",
            "Requirement already satisfied: numpy>=1.11.3 in /usr/local/lib/python3.7/dist-packages (from gensim) (1.21.6)\n",
            "Requirement already satisfied: smart-open>=1.2.1 in /usr/local/lib/python3.7/dist-packages (from gensim) (5.2.1)\n",
            "Requirement already satisfied: scipy>=0.18.1 in /usr/local/lib/python3.7/dist-packages (from gensim) (1.7.3)\n",
            "Requirement already satisfied: six>=1.5.0 in /usr/local/lib/python3.7/dist-packages (from gensim) (1.15.0)\n",
            "Looking in indexes: https://pypi.org/simple, https://us-python.pkg.dev/colab-wheels/public/simple/\n",
            "Collecting pyLDAvis\n",
            "  Downloading pyLDAvis-3.3.1.tar.gz (1.7 MB)\n",
            "\u001b[K     |████████████████████████████████| 1.7 MB 6.5 MB/s \n",
            "\u001b[?25h  Installing build dependencies ... \u001b[?25l\u001b[?25hdone\n",
            "  Getting requirements to build wheel ... \u001b[?25l\u001b[?25hdone\n",
            "  Installing backend dependencies ... \u001b[?25l\u001b[?25hdone\n",
            "    Preparing wheel metadata ... \u001b[?25l\u001b[?25hdone\n",
            "Requirement already satisfied: numexpr in /usr/local/lib/python3.7/dist-packages (from pyLDAvis) (2.8.4)\n",
            "Collecting sklearn\n",
            "  Downloading sklearn-0.0.post1.tar.gz (3.6 kB)\n",
            "Requirement already satisfied: pandas>=1.2.0 in /usr/local/lib/python3.7/dist-packages (from pyLDAvis) (1.3.5)\n",
            "Requirement already satisfied: scikit-learn in /usr/local/lib/python3.7/dist-packages (from pyLDAvis) (1.0.2)\n",
            "Requirement already satisfied: scipy in /usr/local/lib/python3.7/dist-packages (from pyLDAvis) (1.7.3)\n",
            "Requirement already satisfied: setuptools in /usr/local/lib/python3.7/dist-packages (from pyLDAvis) (57.4.0)\n",
            "Requirement already satisfied: joblib in /usr/local/lib/python3.7/dist-packages (from pyLDAvis) (1.2.0)\n",
            "Requirement already satisfied: future in /usr/local/lib/python3.7/dist-packages (from pyLDAvis) (0.16.0)\n",
            "Requirement already satisfied: gensim in /usr/local/lib/python3.7/dist-packages (from pyLDAvis) (3.6.0)\n",
            "Requirement already satisfied: jinja2 in /usr/local/lib/python3.7/dist-packages (from pyLDAvis) (2.11.3)\n",
            "Requirement already satisfied: numpy>=1.20.0 in /usr/local/lib/python3.7/dist-packages (from pyLDAvis) (1.21.6)\n",
            "Collecting funcy\n",
            "  Downloading funcy-1.17-py2.py3-none-any.whl (33 kB)\n",
            "Requirement already satisfied: pytz>=2017.3 in /usr/local/lib/python3.7/dist-packages (from pandas>=1.2.0->pyLDAvis) (2022.6)\n",
            "Requirement already satisfied: python-dateutil>=2.7.3 in /usr/local/lib/python3.7/dist-packages (from pandas>=1.2.0->pyLDAvis) (2.8.2)\n",
            "Requirement already satisfied: six>=1.5 in /usr/local/lib/python3.7/dist-packages (from python-dateutil>=2.7.3->pandas>=1.2.0->pyLDAvis) (1.15.0)\n",
            "Requirement already satisfied: smart-open>=1.2.1 in /usr/local/lib/python3.7/dist-packages (from gensim->pyLDAvis) (5.2.1)\n",
            "Requirement already satisfied: MarkupSafe>=0.23 in /usr/local/lib/python3.7/dist-packages (from jinja2->pyLDAvis) (2.0.1)\n",
            "Requirement already satisfied: threadpoolctl>=2.0.0 in /usr/local/lib/python3.7/dist-packages (from scikit-learn->pyLDAvis) (3.1.0)\n",
            "Building wheels for collected packages: pyLDAvis, sklearn\n",
            "  Building wheel for pyLDAvis (PEP 517) ... \u001b[?25l\u001b[?25hdone\n",
            "  Created wheel for pyLDAvis: filename=pyLDAvis-3.3.1-py2.py3-none-any.whl size=136898 sha256=05620ba53b87248d77db5942527cf7e641edbdfbb2ab80e1347e665549e86dfa\n",
            "  Stored in directory: /root/.cache/pip/wheels/c9/21/f6/17bcf2667e8a68532ba2fbf6d5c72fdf4c7f7d9abfa4852d2f\n",
            "  Building wheel for sklearn (setup.py) ... \u001b[?25l\u001b[?25hdone\n",
            "  Created wheel for sklearn: filename=sklearn-0.0.post1-py3-none-any.whl size=2344 sha256=e9a91d321ff6c402ab41ebdde0ab1b7ffdc08a0b2496d0832d774a9f61d4b205\n",
            "  Stored in directory: /root/.cache/pip/wheels/42/56/cc/4a8bf86613aafd5b7f1b310477667c1fca5c51c3ae4124a003\n",
            "Successfully built pyLDAvis sklearn\n",
            "Installing collected packages: sklearn, funcy, pyLDAvis\n",
            "Successfully installed funcy-1.17 pyLDAvis-3.3.1 sklearn-0.0.post1\n"
          ]
        }
      ]
    },
    {
      "cell_type": "code",
      "source": [
        "print(__doc__)"
      ],
      "metadata": {
        "colab": {
          "base_uri": "https://localhost:8080/"
        },
        "id": "-ingJOO4Kvmo",
        "outputId": "90e3e35c-ad74-4f39-c89f-ada285c8a683"
      },
      "execution_count": 9,
      "outputs": [
        {
          "output_type": "stream",
          "name": "stdout",
          "text": [
            "Automatically created module for IPython interactive environment\n"
          ]
        }
      ]
    },
    {
      "cell_type": "code",
      "source": [
        "import matplotlib.pyplot as plt\n",
        "\n",
        "from sklearn import datasets\n",
        "from sklearn.decomposition import PCA\n",
        "from sklearn.discriminant_analysis import LinearDiscriminantAnalysis as LDA"
      ],
      "metadata": {
        "id": "pemQySI-Kzxg"
      },
      "execution_count": 11,
      "outputs": []
    },
    {
      "cell_type": "code",
      "source": [
        "iris = datasets.load_iris()\n",
        "\n",
        "X = iris.data\n",
        "y = iris.target\n",
        "target_names = iris.target_names\n",
        "\n",
        "pca = PCA(n_components=2)\n",
        "X_r = pca.fit(X).transform(X)\n",
        "\n",
        "lda = LDA(n_components=2)\n",
        "X_r2 = lda.fit(X, y).transform(X)"
      ],
      "metadata": {
        "id": "HjxrTmjBLGX9"
      },
      "execution_count": 12,
      "outputs": []
    },
    {
      "cell_type": "code",
      "source": [
        "#Persentase varians dijelaskan untuk setiap komponen\n",
        "print('explained variance ratio (first two components): %s'\n",
        "      % str(pca.explained_variance_ratio_))"
      ],
      "metadata": {
        "colab": {
          "base_uri": "https://localhost:8080/"
        },
        "id": "eRHHP3S2LH_K",
        "outputId": "1d76383c-1847-4813-c7f8-3ee363006df6"
      },
      "execution_count": 13,
      "outputs": [
        {
          "output_type": "stream",
          "name": "stdout",
          "text": [
            "explained variance ratio (first two components): [0.92461872 0.05306648]\n"
          ]
        }
      ]
    },
    {
      "cell_type": "code",
      "source": [
        "plt.figure()\n",
        "for c, i, target_name in zip(\"rgb\", [0, 1, 2], target_names):\n",
        "    plt.scatter(X_r[y == i, 0], X_r[y == i, 1], c=c, label=target_name)\n",
        "plt.legend()\n",
        "plt.title('PCA of IRIS dataset')\n",
        "\n",
        "plt.figure()\n",
        "for c, i, target_name in zip(\"rgb\", [0, 1, 2], target_names):\n",
        "    plt.scatter(X_r2[y == i, 0], X_r2[y == i, 1], c=c, label=target_name)\n",
        "plt.legend()\n",
        "plt.title('LDA of IRIS dataset')\n",
        "\n",
        "plt.show()"
      ],
      "metadata": {
        "colab": {
          "base_uri": "https://localhost:8080/",
          "height": 545
        },
        "id": "zh5ZU2tOLb7h",
        "outputId": "89feb23f-6bd8-4186-f169-72a970f270f5"
      },
      "execution_count": 14,
      "outputs": [
        {
          "output_type": "display_data",
          "data": {
            "text/plain": [
              "<Figure size 432x288 with 1 Axes>"
            ],
            "image/png": "[encoded data removed]"
          },
          "metadata": {
            "needs_background": "light"
          }
        },
        {
          "output_type": "display_data",
          "data": {
            "text/plain": [
              "<Figure size 432x288 with 1 Axes>"
            ],
            "image/png": "[encoded data removed]"
          },
          "metadata": {
            "needs_background": "light"
          }
        }
      ]
    },
    {
      "cell_type": "markdown",
      "source": [
        "**SVD**\n",
        "\n",
        "Mengelompokkan dokumen teks menggunakan k-means"
      ],
      "metadata": {
        "id": "wlrnVoUhLkvd"
      }
    },
    {
      "cell_type": "code",
      "source": [
        "import numpy as np\n",
        "from sklearn.datasets import fetch_20newsgroups"
      ],
      "metadata": {
        "id": "coE2pgyTLpOV"
      },
      "execution_count": 15,
      "outputs": []
    },
    {
      "cell_type": "code",
      "source": [
        "categories = [\n",
        "    \"alt.atheism\",\n",
        "    \"talk.religion.misc\",\n",
        "    \"comp.graphics\",\n",
        "    \"sci.space\",\n",
        "]\n",
        "\n",
        "dataset = fetch_20newsgroups(\n",
        "    remove=(\"headers\", \"footers\", \"quotes\"),\n",
        "    subset=\"all\",\n",
        "    categories=categories,\n",
        "    shuffle=True,\n",
        "    random_state=42,\n",
        ")\n",
        "\n",
        "labels = dataset.target\n",
        "unique_labels, category_sizes = np.unique(labels, return_counts=True)\n",
        "true_k = unique_labels.shape[0]\n",
        "\n",
        "print(f\"{len(dataset.data)} documents - {true_k} categories\")"
      ],
      "metadata": {
        "colab": {
          "base_uri": "https://localhost:8080/"
        },
        "id": "2xjjtEDmLryp",
        "outputId": "d6b58298-3a90-46a5-9605-1f7866880e14"
      },
      "execution_count": 16,
      "outputs": [
        {
          "output_type": "stream",
          "name": "stdout",
          "text": [
            "3387 documents - 4 categories\n"
          ]
        }
      ]
    },
    {
      "cell_type": "markdown",
      "source": [
        "mengukur kualitas hasil pengelompokan"
      ],
      "metadata": {
        "id": "8RSRzhU8LwOr"
      }
    },
    {
      "cell_type": "code",
      "source": [
        "from collections import defaultdict\n",
        "from sklearn import metrics\n",
        "from time import time"
      ],
      "metadata": {
        "id": "imHhk6AGL4Gw"
      },
      "execution_count": 17,
      "outputs": []
    },
    {
      "cell_type": "code",
      "source": [
        "evaluations = []\n",
        "evaluations_std = []"
      ],
      "metadata": {
        "id": "bU_iy3b9L6o1"
      },
      "execution_count": 18,
      "outputs": []
    },
    {
      "cell_type": "code",
      "source": [
        "def fit_and_evaluate(km, X, name=None, n_runs=5):\n",
        "    name = km.__class__.__name__ if name is None else name\n",
        "\n",
        "    train_times = []\n",
        "    scores = defaultdict(list)\n",
        "    for seed in range(n_runs):\n",
        "        km.set_params(random_state=seed)\n",
        "        t0 = time()\n",
        "        km.fit(X)\n",
        "        train_times.append(time() - t0)\n",
        "        scores[\"Homogeneity\"].append(metrics.homogeneity_score(labels, km.labels_))\n",
        "        scores[\"Completeness\"].append(metrics.completeness_score(labels, km.labels_))\n",
        "        scores[\"V-measure\"].append(metrics.v_measure_score(labels, km.labels_))\n",
        "        scores[\"Adjusted Rand-Index\"].append(\n",
        "            metrics.adjusted_rand_score(labels, km.labels_)\n",
        "        )\n",
        "        scores[\"Silhouette Coefficient\"].append(\n",
        "            metrics.silhouette_score(X, km.labels_, sample_size=2000)\n",
        "        )\n",
        "    train_times = np.asarray(train_times)\n",
        "\n",
        "    print(f\"clustering done in {train_times.mean():.2f} ± {train_times.std():.2f} s \")\n",
        "    evaluation = {\n",
        "        \"estimator\": name,\n",
        "        \"train_time\": train_times.mean(),\n",
        "    }\n",
        "    evaluation_std = {\n",
        "        \"estimator\": name,\n",
        "        \"train_time\": train_times.std(),\n",
        "    }\n",
        "    for score_name, score_values in scores.items():\n",
        "        mean_score, std_score = np.mean(score_values), np.std(score_values)\n",
        "        print(f\"{score_name}: {mean_score:.3f} ± {std_score:.3f}\")\n",
        "        evaluation[score_name] = mean_score\n",
        "        evaluation_std[score_name] = std_score\n",
        "    evaluations.append(evaluation)\n",
        "    evaluations_std.append(evaluation_std)"
      ],
      "metadata": {
        "id": "inFQMSJ0L83C"
      },
      "execution_count": 19,
      "outputs": []
    },
    {
      "cell_type": "markdown",
      "source": [
        "K-means clustering pada fitur teks"
      ],
      "metadata": {
        "id": "RnZ0AN8eMCw6"
      }
    },
    {
      "cell_type": "code",
      "source": [
        "from sklearn.feature_extraction.text import TfidfVectorizer"
      ],
      "metadata": {
        "id": "fDMk87FOMGc5"
      },
      "execution_count": 20,
      "outputs": []
    },
    {
      "cell_type": "code",
      "source": [
        "vectorizer = TfidfVectorizer(\n",
        "    max_df=0.5,\n",
        "    min_df=5,\n",
        "    stop_words=\"english\",\n",
        ")\n",
        "t0 = time()\n",
        "X_tfidf = vectorizer.fit_transform(dataset.data)\n",
        "\n",
        "print(f\"vectorization done in {time() - t0:.3f} s\")\n",
        "print(f\"n_samples: {X_tfidf.shape[0]}, n_features: {X_tfidf.shape[1]}\")"
      ],
      "metadata": {
        "colab": {
          "base_uri": "https://localhost:8080/"
        },
        "id": "sR9NAmktMJfa",
        "outputId": "fbf5a7b9-ea45-40b7-eb66-c66fc1faa686"
      },
      "execution_count": 21,
      "outputs": [
        {
          "output_type": "stream",
          "name": "stdout",
          "text": [
            "vectorization done in 0.527 s\n",
            "n_samples: 3387, n_features: 7929\n"
          ]
        }
      ]
    },
    {
      "cell_type": "code",
      "source": [
        "print(f\"{X_tfidf.nnz / np.prod(X_tfidf.shape):.3f}\")"
      ],
      "metadata": {
        "colab": {
          "base_uri": "https://localhost:8080/"
        },
        "id": "khZcD-4fMMiG",
        "outputId": "2a74fa29-672e-466d-9d4b-fa14ab69eb47"
      },
      "execution_count": 22,
      "outputs": [
        {
          "output_type": "stream",
          "name": "stdout",
          "text": [
            "0.007\n"
          ]
        }
      ]
    },
    {
      "cell_type": "markdown",
      "source": [
        "Mengelompokkan data sparse dengan k-means"
      ],
      "metadata": {
        "id": "V0LOPziLMP6L"
      }
    },
    {
      "cell_type": "code",
      "source": [
        "from sklearn.cluster import KMeans"
      ],
      "metadata": {
        "id": "v4C5s-kVMTcD"
      },
      "execution_count": 23,
      "outputs": []
    },
    {
      "cell_type": "code",
      "source": [
        "for seed in range(5):\n",
        "    kmeans = KMeans(\n",
        "        n_clusters=true_k,\n",
        "        max_iter=100,\n",
        "        n_init=1,\n",
        "        random_state=seed,\n",
        "    ).fit(X_tfidf)\n",
        "    cluster_ids, cluster_sizes = np.unique(kmeans.labels_, return_counts=True)\n",
        "    print(f\"Number of elements asigned to each cluster: {cluster_sizes}\")\n",
        "print()\n",
        "print(\n",
        "    \"True number of documents in each category according to the class labels: \"\n",
        "    f\"{category_sizes}\"\n",
        ")"
      ],
      "metadata": {
        "colab": {
          "base_uri": "https://localhost:8080/"
        },
        "id": "bZwWgNpRMW4M",
        "outputId": "8075d74a-4b80-4507-a9e1-8fd8406bc515"
      },
      "execution_count": 24,
      "outputs": [
        {
          "output_type": "stream",
          "name": "stdout",
          "text": [
            "Number of elements asigned to each cluster: [   1    1 3384    1]\n",
            "Number of elements asigned to each cluster: [1688  725  238  736]\n",
            "Number of elements asigned to each cluster: [2004  446  646  291]\n",
            "Number of elements asigned to each cluster: [1695  649  446  597]\n",
            "Number of elements asigned to each cluster: [ 338 2155  417  477]\n",
            "\n",
            "True number of documents in each category according to the class labels: [799 973 987 628]\n"
          ]
        }
      ]
    },
    {
      "cell_type": "code",
      "source": [
        "means = KMeans(\n",
        "    n_clusters=true_k,\n",
        "    max_iter=100,\n",
        "    n_init=5,\n",
        ")\n",
        "\n",
        "fit_and_evaluate(kmeans, X_tfidf, name=\"KMeans\\non tf-idf vectors\")"
      ],
      "metadata": {
        "colab": {
          "base_uri": "https://localhost:8080/"
        },
        "id": "9rMGJWswMdOQ",
        "outputId": "2a0dfb43-42e7-4b88-bde4-c0970c86ed30"
      },
      "execution_count": 25,
      "outputs": [
        {
          "output_type": "stream",
          "name": "stdout",
          "text": [
            "clustering done in 0.07 ± 0.03 s \n",
            "Homogeneity: 0.243 ± 0.124\n",
            "Completeness: 0.319 ± 0.089\n",
            "V-measure: 0.264 ± 0.133\n",
            "Adjusted Rand-Index: 0.155 ± 0.087\n",
            "Silhouette Coefficient: 0.006 ± 0.004\n"
          ]
        }
      ]
    },
    {
      "cell_type": "markdown",
      "source": [
        "Melakukan pengurangan dimensi menggunakan LSA"
      ],
      "metadata": {
        "id": "nmr-omXiRDRR"
      }
    },
    {
      "cell_type": "code",
      "source": [
        "from sklearn.decomposition import TruncatedSVD\n",
        "from sklearn.pipeline import make_pipeline\n",
        "from sklearn.preprocessing import Normalizer"
      ],
      "metadata": {
        "id": "AD-yb2akMgRT"
      },
      "execution_count": 26,
      "outputs": []
    },
    {
      "cell_type": "code",
      "source": [
        "lsa = make_pipeline(TruncatedSVD(n_components=100), Normalizer(copy=False))\n",
        "t0 = time()\n",
        "X_lsa = lsa.fit_transform(X_tfidf)\n",
        "explained_variance = lsa[0].explained_variance_ratio_.sum()\n",
        "\n",
        "print(f\"LSA done in {time() - t0:.3f} s\")\n",
        "print(f\"Explained variance of the SVD step: {explained_variance * 100:.1f}%\")"
      ],
      "metadata": {
        "colab": {
          "base_uri": "https://localhost:8080/"
        },
        "id": "63xg_hs2MiqZ",
        "outputId": "4c0a6133-720c-4024-a9bc-7fd98246ed3c"
      },
      "execution_count": 27,
      "outputs": [
        {
          "output_type": "stream",
          "name": "stdout",
          "text": [
            "LSA done in 0.754 s\n",
            "Explained variance of the SVD step: 18.4%\n"
          ]
        }
      ]
    },
    {
      "cell_type": "code",
      "source": [
        "kmeans = KMeans(\n",
        "    n_clusters=true_k,\n",
        "    max_iter=100,\n",
        "    n_init=1,\n",
        ")\n",
        "\n",
        "fit_and_evaluate(kmeans, X_lsa, name=\"KMeans\\nwith LSA on tf-idf vectors\")"
      ],
      "metadata": {
        "colab": {
          "base_uri": "https://localhost:8080/"
        },
        "id": "Y2aHwd4rMmpF",
        "outputId": "f06b7f2c-b19c-452c-d2c6-88580f7059fa"
      },
      "execution_count": 28,
      "outputs": [
        {
          "output_type": "stream",
          "name": "stdout",
          "text": [
            "clustering done in 0.08 ± 0.03 s \n",
            "Homogeneity: 0.391 ± 0.018\n",
            "Completeness: 0.427 ± 0.027\n",
            "V-measure: 0.408 ± 0.022\n",
            "Adjusted Rand-Index: 0.315 ± 0.017\n",
            "Silhouette Coefficient: 0.030 ± 0.001\n"
          ]
        }
      ]
    },
    {
      "cell_type": "code",
      "source": [
        "from sklearn.cluster import MiniBatchKMeans"
      ],
      "metadata": {
        "id": "Y03Kl2jQMpVw"
      },
      "execution_count": 47,
      "outputs": []
    },
    {
      "cell_type": "code",
      "source": [
        "minibatch_kmeans = MiniBatchKMeans(\n",
        "    n_clusters=true_k,\n",
        "    n_init=1,\n",
        "    init_size=1000,\n",
        "    batch_size=1000,\n",
        ")\n",
        "\n",
        "fit_and_evaluate(\n",
        "    minibatch_kmeans,\n",
        "    X_lsa,\n",
        "    name=\"MiniBatchKMeans\\nwith LSA on tf-idf vectors\",\n",
        ")"
      ],
      "metadata": {
        "colab": {
          "base_uri": "https://localhost:8080/"
        },
        "id": "crzRQz_9M4Qw",
        "outputId": "67ffc047-3583-42a5-c7c4-27df7fa24383"
      },
      "execution_count": 30,
      "outputs": [
        {
          "output_type": "stream",
          "name": "stdout",
          "text": [
            "clustering done in 0.25 ± 0.14 s \n",
            "Homogeneity: 0.312 ± 0.146\n",
            "Completeness: 0.359 ± 0.074\n",
            "V-measure: 0.321 ± 0.139\n",
            "Adjusted Rand-Index: 0.278 ± 0.143\n",
            "Silhouette Coefficient: 0.023 ± 0.015\n"
          ]
        }
      ]
    },
    {
      "cell_type": "markdown",
      "source": [
        "Istilah teratas per cluster"
      ],
      "metadata": {
        "id": "pGNr4uaES0Na"
      }
    },
    {
      "cell_type": "code",
      "source": [
        "original_space_centroids = lsa[0].inverse_transform(kmeans.cluster_centers_)\n",
        "order_centroids = original_space_centroids.argsort()[:, ::-1]\n",
        "terms = vectorizer.get_feature_names_out()\n",
        "\n",
        "for i in range(true_k):\n",
        "    print(f\"Cluster {i}: \", end=\"\")\n",
        "    for ind in order_centroids[i, :10]:\n",
        "        print(f\"{terms[ind]} \", end=\"\")\n",
        "    print()"
      ],
      "metadata": {
        "colab": {
          "base_uri": "https://localhost:8080/"
        },
        "id": "F4nUO0KlM85y",
        "outputId": "37d78cea-4984-4b12-cda4-e5a7d486da19"
      },
      "execution_count": 31,
      "outputs": [
        {
          "output_type": "stream",
          "name": "stdout",
          "text": [
            "Cluster 0: graphics software computer comp image information 3d pc available video \n",
            "Cluster 1: god people don think just say religion believe know jesus \n",
            "Cluster 2: thanks know does files edu file like ve program image \n",
            "Cluster 3: space launch orbit like earth nasa shuttle moon just time \n"
          ]
        }
      ]
    },
    {
      "cell_type": "markdown",
      "source": [
        "HashingVektorizer"
      ],
      "metadata": {
        "id": "Hl3yOtirRf5S"
      }
    },
    {
      "cell_type": "code",
      "source": [
        "from sklearn.feature_extraction.text import HashingVectorizer\n",
        "from sklearn.feature_extraction.text import TfidfTransformer"
      ],
      "metadata": {
        "id": "neCshPfbM_0H"
      },
      "execution_count": 49,
      "outputs": []
    },
    {
      "cell_type": "code",
      "source": [
        "lsa_vectorizer = make_pipeline(\n",
        "    HashingVectorizer(stop_words=\"english\", n_features=50_000),\n",
        "    TfidfTransformer(),\n",
        "    TruncatedSVD(n_components=100, random_state=0),\n",
        "    Normalizer(copy=False),\n",
        ")\n",
        "\n",
        "t0 = time()\n",
        "X_hashed_lsa = lsa_vectorizer.fit_transform(dataset.data)\n",
        "print(f\"vectorization done in {time() - t0:.3f} s\")"
      ],
      "metadata": {
        "colab": {
          "base_uri": "https://localhost:8080/"
        },
        "id": "9vfJCbbWNDKF",
        "outputId": "33a7cf57-98bc-43e9-818d-36249a628ea5"
      },
      "execution_count": 48,
      "outputs": [
        {
          "output_type": "stream",
          "name": "stdout",
          "text": [
            "vectorization done in 4.016 s\n"
          ]
        }
      ]
    },
    {
      "cell_type": "code",
      "source": [
        "fit_and_evaluate(kmeans, X_hashed_lsa, name=\"KMeans\\nwith LSA on hashed vectors\")"
      ],
      "metadata": {
        "colab": {
          "base_uri": "https://localhost:8080/"
        },
        "id": "D9O6nqZIRqc7",
        "outputId": "7ac28ad3-3700-4e6b-ec61-581536ca2635"
      },
      "execution_count": 50,
      "outputs": [
        {
          "output_type": "stream",
          "name": "stdout",
          "text": [
            "clustering done in 0.30 ± 0.32 s \n",
            "Homogeneity: 0.400 ± 0.003\n",
            "Completeness: 0.451 ± 0.005\n",
            "V-measure: 0.424 ± 0.004\n",
            "Adjusted Rand-Index: 0.320 ± 0.010\n",
            "Silhouette Coefficient: 0.029 ± 0.000\n"
          ]
        }
      ]
    },
    {
      "cell_type": "code",
      "source": [
        "kmeans = KMeans(\n",
        "    n_clusters=true_k,\n",
        "    max_iter=100,\n",
        "    n_init=1,\n",
        ")\n",
        "\n",
        "fit_and_evaluate(kmeans, X_lsa, name=\"KMeans\\nwith LSA on tf-idf vectors\")"
      ],
      "metadata": {
        "colab": {
          "base_uri": "https://localhost:8080/"
        },
        "id": "-f9YBg3gPRaV",
        "outputId": "1e4fc5dc-fa93-4cd1-b699-9b932dac16a3"
      },
      "execution_count": 45,
      "outputs": [
        {
          "output_type": "stream",
          "name": "stdout",
          "text": [
            "clustering done in 0.24 ± 0.18 s \n",
            "Homogeneity: 0.391 ± 0.018\n",
            "Completeness: 0.427 ± 0.027\n",
            "V-measure: 0.408 ± 0.022\n",
            "Adjusted Rand-Index: 0.315 ± 0.017\n",
            "Silhouette Coefficient: 0.029 ± 0.001\n"
          ]
        }
      ]
    },
    {
      "cell_type": "code",
      "source": [
        "from sklearn.cluster import MiniBatchKMeans"
      ],
      "metadata": {
        "id": "WSvGnw7HNjJA"
      },
      "execution_count": 36,
      "outputs": []
    },
    {
      "cell_type": "code",
      "source": [
        "minibatch_kmeans = MiniBatchKMeans(\n",
        "    n_clusters=true_k,\n",
        "    n_init=1,\n",
        "    init_size=1000,\n",
        "    batch_size=1000,\n",
        ")\n",
        "\n",
        "fit_and_evaluate(\n",
        "    minibatch_kmeans,\n",
        "    X_lsa,\n",
        "    name=\"MiniBatchKMeans\\nwith LSA on tf-idf vectors\",\n",
        ")"
      ],
      "metadata": {
        "colab": {
          "base_uri": "https://localhost:8080/"
        },
        "id": "HLoFsh34NsPZ",
        "outputId": "1b963bac-9e12-49db-97ed-0aaed407e29b"
      },
      "execution_count": 37,
      "outputs": [
        {
          "output_type": "stream",
          "name": "stdout",
          "text": [
            "clustering done in 0.12 ± 0.04 s \n",
            "Homogeneity: 0.312 ± 0.146\n",
            "Completeness: 0.359 ± 0.074\n",
            "V-measure: 0.321 ± 0.139\n",
            "Adjusted Rand-Index: 0.278 ± 0.143\n",
            "Silhouette Coefficient: 0.022 ± 0.014\n"
          ]
        }
      ]
    },
    {
      "cell_type": "code",
      "source": [
        "original_space_centroids = lsa[0].inverse_transform(kmeans.cluster_centers_)\n",
        "order_centroids = original_space_centroids.argsort()[:, ::-1]\n",
        "terms = vectorizer.get_feature_names_out()\n",
        "\n",
        "for i in range(true_k):\n",
        "    print(f\"Cluster {i}: \", end=\"\")\n",
        "    for ind in order_centroids[i, :10]:\n",
        "        print(f\"{terms[ind]} \", end=\"\")\n",
        "    print()"
      ],
      "metadata": {
        "colab": {
          "base_uri": "https://localhost:8080/"
        },
        "id": "x6sj7pYoNwj7",
        "outputId": "2608cb5d-673e-4453-83a1-828bfcc85125"
      },
      "execution_count": 38,
      "outputs": [
        {
          "output_type": "stream",
          "name": "stdout",
          "text": [
            "Cluster 0: god think people just don know space does like right \n",
            "Cluster 1: god people said believe don jesus say bible does ico \n",
            "Cluster 2: graphics thanks image software know files format file like ftp \n",
            "Cluster 3: space nasa just shuttle orbit launch think moon time like \n"
          ]
        }
      ]
    },
    {
      "cell_type": "markdown",
      "source": [
        "HashingVektorizerr"
      ],
      "metadata": {
        "id": "P1FIYHWYO1OL"
      }
    },
    {
      "cell_type": "code",
      "source": [
        "from sklearn.feature_extraction.text import HashingVectorizer\n",
        "from sklearn.feature_extraction.text import TfidfTransformer"
      ],
      "metadata": {
        "id": "a1bTE89kNwaQ"
      },
      "execution_count": 39,
      "outputs": []
    },
    {
      "cell_type": "code",
      "source": [
        "lsa_vectorizer = make_pipeline(\n",
        "    HashingVectorizer(stop_words=\"english\", n_features=50_000),\n",
        "    TfidfTransformer(),\n",
        "    TruncatedSVD(n_components=100, random_state=0),\n",
        "    Normalizer(copy=False),\n",
        ")\n",
        "\n",
        "t0 = time()\n",
        "X_hashed_lsa = lsa_vectorizer.fit_transform(dataset.data)\n",
        "print(f\"vectorization done in {time() - t0:.3f} s\")"
      ],
      "metadata": {
        "colab": {
          "base_uri": "https://localhost:8080/"
        },
        "id": "9Rpxd-JdN2At",
        "outputId": "a51b4f0c-dd6f-4a03-f148-93bc17b5451b"
      },
      "execution_count": 40,
      "outputs": [
        {
          "output_type": "stream",
          "name": "stdout",
          "text": [
            "vectorization done in 3.853 s\n"
          ]
        }
      ]
    },
    {
      "cell_type": "code",
      "source": [
        "fit_and_evaluate(kmeans, X_hashed_lsa, name=\"KMeans\\nwith LSA on hashed vectors\")"
      ],
      "metadata": {
        "colab": {
          "base_uri": "https://localhost:8080/"
        },
        "id": "72_fc7CuSJj8",
        "outputId": "5cfc38b5-231f-4bd4-9a0c-abe7c158f064"
      },
      "execution_count": 51,
      "outputs": [
        {
          "output_type": "stream",
          "name": "stdout",
          "text": [
            "clustering done in 0.30 ± 0.14 s \n",
            "Homogeneity: 0.400 ± 0.003\n",
            "Completeness: 0.451 ± 0.005\n",
            "V-measure: 0.424 ± 0.004\n",
            "Adjusted Rand-Index: 0.320 ± 0.010\n",
            "Silhouette Coefficient: 0.029 ± 0.001\n"
          ]
        }
      ]
    },
    {
      "cell_type": "code",
      "source": [
        "fit_and_evaluate(\n",
        "    minibatch_kmeans,\n",
        "    X_hashed_lsa,\n",
        "    name=\"MiniBatchKMeans\\nwith LSA on hashed vectors\",\n",
        ")"
      ],
      "metadata": {
        "colab": {
          "base_uri": "https://localhost:8080/"
        },
        "id": "_92lojJkSKxp",
        "outputId": "442252dd-5b8b-44d3-97a1-7c49b0a5cfff"
      },
      "execution_count": 52,
      "outputs": [
        {
          "output_type": "stream",
          "name": "stdout",
          "text": [
            "clustering done in 0.07 ± 0.04 s \n",
            "Homogeneity: 0.349 ± 0.059\n",
            "Completeness: 0.364 ± 0.060\n",
            "V-measure: 0.357 ± 0.059\n",
            "Adjusted Rand-Index: 0.317 ± 0.072\n",
            "Silhouette Coefficient: 0.026 ± 0.004\n"
          ]
        }
      ]
    },
    {
      "cell_type": "markdown",
      "source": [
        "Ringkasan evaluasi pengelompokan"
      ],
      "metadata": {
        "id": "LQ9AvfkVOFWN"
      }
    },
    {
      "cell_type": "code",
      "source": [
        "import pandas as pd\n",
        "import matplotlib.pyplot as plt"
      ],
      "metadata": {
        "id": "8skF4-vdOPB8"
      },
      "execution_count": 43,
      "outputs": []
    },
    {
      "cell_type": "code",
      "source": [
        "fig, (ax0, ax1) = plt.subplots(ncols=2, figsize=(16, 6), sharey=True)\n",
        "\n",
        "df = pd.DataFrame(evaluations[::-1]).set_index(\"estimator\")\n",
        "df_std = pd.DataFrame(evaluations_std[::-1]).set_index(\"estimator\")\n",
        "\n",
        "df.drop(\n",
        "    [\"train_time\"],\n",
        "    axis=\"columns\",\n",
        ").plot.barh(ax=ax0, xerr=df_std)\n",
        "ax0.set_xlabel(\"Clustering scores\")\n",
        "ax0.set_ylabel(\"\")\n",
        "\n",
        "df[\"train_time\"].plot.barh(ax=ax1, xerr=df_std[\"train_time\"])\n",
        "ax1.set_xlabel(\"Clustering time (s)\")\n",
        "plt.tight_layout()"
      ],
      "metadata": {
        "colab": {
          "base_uri": "https://localhost:8080/",
          "height": 403
        },
        "id": "r-eqEZJMOXwn",
        "outputId": "49a6c082-9bbd-4e4a-aae0-8c8f45233956"
      },
      "execution_count": 44,
      "outputs": [
        {
          "output_type": "display_data",
          "data": {
            "text/plain": [
              "<Figure size 1152x432 with 2 Axes>"
            ],
            "image/png": "[encoded data removed]"
          },
          "metadata": {
            "needs_background": "light"
          }
        }
      ]
    },
    {
      "cell_type": "markdown",
      "source": [],
      "metadata": {
        "id": "EPBMQascOCML"
      }
    }
  ]
}